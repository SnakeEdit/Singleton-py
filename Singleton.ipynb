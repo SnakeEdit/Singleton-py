{
 "cells": [
  {
   "cell_type": "code",
   "execution_count": 7,
   "metadata": {},
   "outputs": [
    {
     "name": "stdout",
     "output_type": "stream",
     "text": [
      "True \n",
      " <__main__.My_demention object at 0x0000015EB4A6B190> \n",
      " <__main__.My_demention object at 0x0000015EB4A6B190>\n"
     ]
    }
   ],
   "source": [
    "class My_demention:     \n",
    "    __instance = None\n",
    "    def __new__(cls, *args, **kwargs):\n",
    "        if cls.__instance is None:\n",
    "            cls.__instance = super(My_demention, cls).__new__(cls)\n",
    "        return cls.__instance\n",
    "    \n",
    "a = My_demention()\n",
    "b = My_demention()\n",
    "print (a is b, '\\n', a, '\\n', b)"
   ]
  },
  {
   "cell_type": "code",
   "execution_count": null,
   "metadata": {},
   "outputs": [],
   "source": []
  }
 ],
 "metadata": {
  "kernelspec": {
   "display_name": "Python 3",
   "language": "python",
   "name": "python3"
  },
  "language_info": {
   "codemirror_mode": {
    "name": "ipython",
    "version": 3
   },
   "file_extension": ".py",
   "mimetype": "text/x-python",
   "name": "python",
   "nbconvert_exporter": "python",
   "pygments_lexer": "ipython3",
   "version": "3.8.5"
  }
 },
 "nbformat": 4,
 "nbformat_minor": 4
}
